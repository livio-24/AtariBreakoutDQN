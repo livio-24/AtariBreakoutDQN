{
 "cells": [
  {
   "cell_type": "code",
   "execution_count": 2,
   "id": "d3121d7d-3095-4cd6-9efe-c1896376fc0d",
   "metadata": {},
   "outputs": [],
   "source": [
    "from baselines.common.atari_wrappers import make_atari, wrap_deepmind\n",
    "import gym\n",
    "import pandas as pd\n",
    "import numpy as np\n",
    "import cv2\n",
    "import matplotlib.pyplot as plt\n",
    "import tensorflow as tf\n",
    "import keras\n",
    "import math\n",
    "import random"
   ]
  },
  {
   "cell_type": "code",
   "execution_count": 3,
   "id": "f10f6163-17eb-4957-9a7d-0a98bc4ea455",
   "metadata": {},
   "outputs": [],
   "source": [
    "#tf.compat.v1.disable_eager_execution()"
   ]
  },
  {
   "cell_type": "code",
   "execution_count": 4,
   "id": "f352e185-05da-4c4e-9474-7f2ad814ec9e",
   "metadata": {},
   "outputs": [
    {
     "name": "stdout",
     "output_type": "stream",
     "text": [
      "0.15.7\n"
     ]
    }
   ],
   "source": [
    "print(gym.__version__)"
   ]
  },
  {
   "cell_type": "markdown",
   "id": "72683b60-ebb4-40d7-98d4-9992eac7a220",
   "metadata": {},
   "source": [
    "# CONCETTI PRINCIPALI DQN"
   ]
  },
  {
   "cell_type": "markdown",
   "id": "40c1241e-ba47-444d-9150-882afe007b37",
   "metadata": {},
   "source": [
    "![POLICY_NETWORK](images/policy_network.png)<br>\n",
    "Dopo aver memorizzato un'esperienza nella replay memory, si procede a campionare una batch casuale di esperienze dalla replay memory.\n",
    "A partire da un singolo campione (generalizzando a una batch) di esperienza dalla memoria, si procede a una preelaborazione dello stato (conversione in scala di grigi, ritaglio, scalatura, ecc.) e si passa lo stato preelaborato alla rete come input. L'obiettivo della rete è quello di approssimare la policy ottimale trovando la Q-function ottimale.\n",
    "\n",
    "I dati dello stato di input vengono propogati nella rete e vengono calcolati i Q-values per ciascuna azione in quello stato.\n",
    "\n",
    "Si calcola quindi la loss. Per farlo, si confronta il valore Q emesso dalla rete per l'azione nella tupla di esperienza che abbiamo campionato e il corrispondente valore Q ottimale, o valore Q target, per la stessa azione.\n",
    "\n",
    "Il valore Q target viene calcolato utilizzando l'espressione del lato destro dell'equazione di Bellman. Quindi la loss viene calcolata sottraendo il valore Q per una data coppia stato-azione dal valore Q ottimale per la stessa coppia stato-azione.\n",
    "\n",
    "![TARGET_NETWORK](images/target_network.png)<br>\n",
    "Per calcolare il target Q-value viene fatto un altro forward pass prendendo lo stato s' (next state) dalla tupla dell'esperienza campionata. Viene utilizzata una seconda rete (TARGET NETWORK), una copia della policy network (copia dei pesi dalla policy network periodicamente). Viene preso il Q-value massimo tra le possibili azioni.\n",
    "\n",
    "Questo secondo forward pass serve quindi per aiutarci a calcolare la loss.\n",
    "\n",
    "La discesa del gradiente viene quindi eseguita per aggiornare i pesi della rete nel tentativo di minimizzare la perdita. In questo caso, minimizzare la perdita significa puntare a far sì che la rete produca valori Q per ogni coppia stato-azione che si avvicinino ai valori Q target dati dall'equazione di Bellman.\n",
    "\n",
    "Fino a questo punto, tutto ciò che abbiamo esaminato riguardava un singolo passo temporale. Passiamo quindi alla fase temporale successiva dell'episodio e ripetiamo questo processo più volte, finché non raggiungiamo la fine dell'episodio. A quel punto, iniziamo un nuovo episodio e continuiamo a farlo finché non raggiungiamo il numero massimo di episodi stabilito. Continueremo a ripetere questo processo fino a quando non avremo minimizzato a sufficienza la perdita.\n",
    "\n",
    "RECAP\n",
    "\n",
    "![algorithm](images/algorithm.png)<br>"
   ]
  },
  {
   "cell_type": "code",
   "execution_count": 5,
   "id": "8ef1d827-5e12-4a09-bff3-ac3e3aa73a0f",
   "metadata": {},
   "outputs": [
    {
     "name": "stdout",
     "output_type": "stream",
     "text": [
      "[PhysicalDevice(name='/physical_device:GPU:0', device_type='GPU')]\n"
     ]
    }
   ],
   "source": [
    "print(tf.config.list_physical_devices('GPU'))"
   ]
  },
  {
   "cell_type": "code",
   "execution_count": 6,
   "id": "091b63e3-2900-4d8f-b0fe-cc80708950bd",
   "metadata": {},
   "outputs": [
    {
     "name": "stdout",
     "output_type": "stream",
     "text": [
      "1 Physical GPUs, 1 Logical GPUs\n"
     ]
    }
   ],
   "source": [
    "#tf.debugging.set_log_device_placement(True)\n",
    "gpus = tf.config.list_physical_devices('GPU')\n",
    "if gpus:\n",
    "  try:\n",
    "    # Currently, memory growth needs to be the same across GPUs\n",
    "    for gpu in gpus:\n",
    "      tf.config.experimental.set_memory_growth(gpu, True)\n",
    "    logical_gpus = tf.config.list_logical_devices('GPU')\n",
    "    print(len(gpus), \"Physical GPUs,\", len(logical_gpus), \"Logical GPUs\")\n",
    "  except RuntimeError as e:\n",
    "    # Memory growth must be set before GPUs have been initialized\n",
    "    print(e)"
   ]
  },
  {
   "cell_type": "code",
   "execution_count": 25,
   "id": "b678b6e4-c334-45a0-8aad-45be84d4653c",
   "metadata": {},
   "outputs": [
    {
     "data": {
      "text/plain": [
       "<baselines.common.atari_wrappers.LazyFrames at 0x1808e705750>"
      ]
     },
     "execution_count": 25,
     "metadata": {},
     "output_type": "execute_result"
    }
   ],
   "source": [
    "# Use the Baseline Atari environment because of Deepmind helper functions\n",
    "env = make_atari(\"BreakoutNoFrameskip-v4\")\n",
    "\n",
    "# Warp the frames, grey scale, stake four frame and scale to smaller ratio\n",
    "env = wrap_deepmind(env, frame_stack=True, scale=True)\n",
    "env.reset()"
   ]
  },
  {
   "cell_type": "code",
   "execution_count": 8,
   "id": "5d57312c-b4a1-4def-ab3c-7440e7216cda",
   "metadata": {},
   "outputs": [
    {
     "data": {
      "text/plain": [
       "(84, 84, 4)"
      ]
     },
     "execution_count": 8,
     "metadata": {},
     "output_type": "execute_result"
    }
   ],
   "source": [
    "state_dim = env.observation_space.shape\n",
    "state_dim"
   ]
  },
  {
   "cell_type": "code",
   "execution_count": 9,
   "id": "018add44-e4a4-442b-aaa4-3d6e8c10d949",
   "metadata": {},
   "outputs": [
    {
     "data": {
      "text/plain": [
       "4"
      ]
     },
     "execution_count": 9,
     "metadata": {},
     "output_type": "execute_result"
    }
   ],
   "source": [
    "n_actions = env.action_space.n\n",
    "n_actions"
   ]
  },
  {
   "cell_type": "code",
   "execution_count": 10,
   "id": "250a614c-922c-496d-8ecc-261747ddb26c",
   "metadata": {},
   "outputs": [
    {
     "data": {
      "image/png": "[encoded data removed]",
      "text/plain": [
       "<Figure size 640x480 with 1 Axes>"
      ]
     },
     "metadata": {},
     "output_type": "display_data"
    },
    {
     "data": {
      "image/png": "[encoded data removed]",
      "text/plain": [
       "<Figure size 640x480 with 1 Axes>"
      ]
     },
     "metadata": {},
     "output_type": "display_data"
    }
   ],
   "source": [
    "# review Atari image, and actual observation of the Agent after processing\n",
    "for _ in range(50):\n",
    "    obs, _, _, _ = env.step(env.action_space.sample())\n",
    "    \n",
    "obs = np.array(obs)\n",
    "plt.title(\"Game image\")\n",
    "plt.imshow(env.render(\"rgb_array\"))\n",
    "plt.show()\n",
    "plt.title(\"Agent observation (4 frames left to right)\")\n",
    "plt.imshow(obs.transpose([0,2,1]).reshape([state_dim[0],-1]));"
   ]
  },
  {
   "cell_type": "markdown",
   "id": "6809a130-6b76-4941-99d4-7d63167d2194",
   "metadata": {},
   "source": [
    "# HYPER-PARAMETERS"
   ]
  },
  {
   "cell_type": "code",
   "execution_count": 11,
   "id": "9282b9e3-41ce-43ad-8dfa-dc75196987b1",
   "metadata": {},
   "outputs": [
    {
     "data": {
      "text/plain": [
       "'#valori iniziali\\nbatch_size = 256\\ngamma = 0.999 #fattore di sconto bellman equation\\neps_start = 1 #valore iniziale epsilon\\neps_end = 0.01 #valore finale epsilon\\neps_decay = 0.001 #decay epsilon\\ntarget_update = 10 #frequenza (in episodi) con cui vengono aggiornati i pesi della target network\\nmemory_size = 100000 #dimensione replay memory\\nlr = 0.001 #learning rate\\nnum_episodes = 1000\\n'"
      ]
     },
     "execution_count": 11,
     "metadata": {},
     "output_type": "execute_result"
    }
   ],
   "source": [
    "'''#valori iniziali\n",
    "batch_size = 256\n",
    "gamma = 0.999 #fattore di sconto bellman equation\n",
    "eps_start = 1 #valore iniziale epsilon\n",
    "eps_end = 0.01 #valore finale epsilon\n",
    "eps_decay = 0.001 #decay epsilon\n",
    "target_update = 10 #frequenza (in episodi) con cui vengono aggiornati i pesi della target network\n",
    "memory_size = 100000 #dimensione replay memory\n",
    "lr = 0.001 #learning rate\n",
    "num_episodes = 1000\n",
    "'''"
   ]
  },
  {
   "cell_type": "markdown",
   "id": "e98f569c-6ea3-4212-ae9d-a2fb48108c3d",
   "metadata": {},
   "source": [
    "# DEEP Q-NETWORK"
   ]
  },
  {
   "cell_type": "code",
   "execution_count": 12,
   "id": "01ceb8f6-6af8-4952-9f06-4568804efc6a",
   "metadata": {
    "scrolled": true
   },
   "outputs": [
    {
     "data": {
      "text/plain": [
       "'\\nimport tensorflow as tf\\nimport keras\\nfrom keras.layers import Conv2D, Dense, Flatten, InputLayer\\n\\ntf.compat.v1.reset_default_graph()\\nsess = tf.compat.v1.InteractiveSession()\\n'"
      ]
     },
     "execution_count": 12,
     "metadata": {},
     "output_type": "execute_result"
    }
   ],
   "source": [
    "'''\n",
    "import tensorflow as tf\n",
    "import keras\n",
    "from keras.layers import Conv2D, Dense, Flatten, InputLayer\n",
    "\n",
    "tf.compat.v1.reset_default_graph()\n",
    "sess = tf.compat.v1.InteractiveSession()\n",
    "'''"
   ]
  },
  {
   "cell_type": "code",
   "execution_count": 13,
   "id": "66fba62c-96ae-4630-9b04-2cb679085103",
   "metadata": {
    "scrolled": true
   },
   "outputs": [
    {
     "data": {
      "text/plain": [
       "'\\nfrom keras.layers import Conv2D, Dense, Flatten\\nclass DQN:\\n    def __init__(self, state_shape, n_actions):\\n        \"\"\"A simple DQN agent\"\"\"            \\n        self.network = keras.models.Sequential()\\n\\n        # Keras ignores the first dimension in the input_shape, which is the batch size. \\n        # So just use state_shape for the input shape\\n        self.network.add(Conv2D(32, (8, 8), strides=4, activation=\\'relu\\',use_bias=False, input_shape=state_shape,kernel_initializer=tf.initializers.variance_scaling(scale=2)))\\n        self.network.add(Conv2D(64, (4, 4), strides=2, activation=\\'relu\\',use_bias=False,kernel_initializer=tf.initializers.variance_scaling(scale=2)))\\n        self.network.add(Conv2D(64, (3, 3), strides=1, activation=\\'relu\\',use_bias=False,kernel_initializer=tf.initializers.variance_scaling(scale=2)))\\n        self.network.add(Conv2D(1024, (7, 7), strides=1, activation=\\'relu\\',use_bias=False,kernel_initializer=tf.initializers.variance_scaling(scale=2)))\\n        self.network.add(Flatten())\\n        self.network.add(Dense(n_actions, activation=\\'linear\\',kernel_initializer=tf.initializers.variance_scaling(scale=2)))\\n                    \\n        #self.weights = tf.compat.v1.get_collection(tf.compat.v1.GraphKeys.TRAINABLE_VARIABLES, scope=name)\\n\\n    def get_qvalues(self, state_t):\\n        \"\"\"takes agent\\'s observation, returns qvalues. Both are tf Tensors\"\"\"\\n        qvalues = self.network(state_t)\\n        \\n        \\n        assert tf.debugging.is_numeric_tensor(qvalues) and qvalues.shape.ndims == 2,             \"please return 2d tf tensor of qvalues [you got %s]\" % repr(qvalues)\\n        assert int(qvalues.shape[1]) == n_actions\\n        \\n        return qvalues\\n'"
      ]
     },
     "execution_count": 13,
     "metadata": {},
     "output_type": "execute_result"
    }
   ],
   "source": [
    "'''\n",
    "from keras.layers import Conv2D, Dense, Flatten\n",
    "class DQN:\n",
    "    def __init__(self, state_shape, n_actions):\n",
    "        \"\"\"A simple DQN agent\"\"\"            \n",
    "        self.network = keras.models.Sequential()\n",
    "\n",
    "        # Keras ignores the first dimension in the input_shape, which is the batch size. \n",
    "        # So just use state_shape for the input shape\n",
    "        self.network.add(Conv2D(32, (8, 8), strides=4, activation='relu',use_bias=False, input_shape=state_shape,kernel_initializer=tf.initializers.variance_scaling(scale=2)))\n",
    "        self.network.add(Conv2D(64, (4, 4), strides=2, activation='relu',use_bias=False,kernel_initializer=tf.initializers.variance_scaling(scale=2)))\n",
    "        self.network.add(Conv2D(64, (3, 3), strides=1, activation='relu',use_bias=False,kernel_initializer=tf.initializers.variance_scaling(scale=2)))\n",
    "        self.network.add(Conv2D(1024, (7, 7), strides=1, activation='relu',use_bias=False,kernel_initializer=tf.initializers.variance_scaling(scale=2)))\n",
    "        self.network.add(Flatten())\n",
    "        self.network.add(Dense(n_actions, activation='linear',kernel_initializer=tf.initializers.variance_scaling(scale=2)))\n",
    "                    \n",
    "        #self.weights = tf.compat.v1.get_collection(tf.compat.v1.GraphKeys.TRAINABLE_VARIABLES, scope=name)\n",
    "\n",
    "    def get_qvalues(self, state_t):\n",
    "        \"\"\"takes agent's observation, returns qvalues. Both are tf Tensors\"\"\"\n",
    "        qvalues = self.network(state_t)\n",
    "        \n",
    "        \n",
    "        assert tf.debugging.is_numeric_tensor(qvalues) and qvalues.shape.ndims == 2, \\\n",
    "            \"please return 2d tf tensor of qvalues [you got %s]\" % repr(qvalues)\n",
    "        assert int(qvalues.shape[1]) == n_actions\n",
    "        \n",
    "        return qvalues\n",
    "'''"
   ]
  },
  {
   "cell_type": "code",
   "execution_count": 14,
   "id": "f28cd9e1-3332-41d9-96a3-5548c6ea14d0",
   "metadata": {},
   "outputs": [],
   "source": [
    "from keras.layers import Conv2D, Dense, Flatten\n",
    "\n",
    "def create_qmodel(state_shape, n_actions):\n",
    "    model = keras.models.Sequential()\n",
    "    # Keras ignores the first dimension in the input_shape, which is the batch size. \n",
    "    # So just use state_shape for the input shape\n",
    "    model.add(Conv2D(32, (8, 8), strides=4, activation='relu',use_bias=False, input_shape=state_shape,kernel_initializer=tf.initializers.variance_scaling(scale=2)))\n",
    "    model.add(Conv2D(64, (4, 4), strides=2, activation='relu',use_bias=False,kernel_initializer=tf.initializers.variance_scaling(scale=2)))\n",
    "    model.add(Conv2D(64, (3, 3), strides=1, activation='relu',use_bias=False,kernel_initializer=tf.initializers.variance_scaling(scale=2)))\n",
    "    model.add(Conv2D(1024, (7, 7), strides=1, activation='relu',use_bias=False,kernel_initializer=tf.initializers.variance_scaling(scale=2)))\n",
    "    model.add(Flatten())\n",
    "    model.add(Dense(n_actions, activation='linear',kernel_initializer=tf.initializers.variance_scaling(scale=2)))\n",
    "    \n",
    "    return model"
   ]
  },
  {
   "cell_type": "markdown",
   "id": "94263eb1-2928-4dac-ba39-e6ccd3e368bd",
   "metadata": {},
   "source": [
    "# EXPERIENCE CLASS"
   ]
  },
  {
   "cell_type": "code",
   "execution_count": 15,
   "id": "df740e11-2da6-4887-bab8-6f654f932937",
   "metadata": {},
   "outputs": [],
   "source": [
    "from collections import namedtuple\n",
    "Experience = namedtuple( 'Experience', ('state', 'action', 'next_state', 'reward', 'done'))"
   ]
  },
  {
   "cell_type": "code",
   "execution_count": 16,
   "id": "5c1661b1-663e-44fd-b69c-6d6e0cfc6cb3",
   "metadata": {},
   "outputs": [],
   "source": [
    "def extract_tensors(experiences):\n",
    "    batch = Experience(*zip(*experiences))\n",
    "\n",
    "    states_tensor = tf.convert_to_tensor(batch.state, dtype=tf.float32)\n",
    "    actions_tensor = tf.convert_to_tensor(batch.action, dtype=tf.float32)\n",
    "    rewards_tensor = tf.convert_to_tensor(batch.reward, dtype=tf.float32)\n",
    "    next_states_tensor = tf.convert_to_tensor(batch.next_state, dtype=tf.float32)\n",
    "    done_tensor = tf.convert_to_tensor(batch.done, dtype=tf.float32)\n",
    "\n",
    "    return (states_tensor, actions_tensor, rewards_tensor, next_states_tensor, done_tensor)\n",
    "    "
   ]
  },
  {
   "cell_type": "markdown",
   "id": "e5613ae5-ce29-42e5-8fc4-72bb2a2a82c8",
   "metadata": {},
   "source": [
    "# REPLAY MEMORY"
   ]
  },
  {
   "cell_type": "code",
   "execution_count": 17,
   "id": "87707756-a950-4dcc-9d5a-80106fb147ad",
   "metadata": {},
   "outputs": [],
   "source": [
    "class ReplayMemory():\n",
    "    def __init__(self, capacity):\n",
    "        self.capacity = capacity\n",
    "        self.memory = [] #lista per memorizzare le esperienze\n",
    "        self.push_count = 0 #serve per tener traccia del numero di esperienze aggiunte in memoria\n",
    "\n",
    "    def push(self, experience):\n",
    "        #se la memoria non è piena\n",
    "        if len(self.memory) < self.capacity:\n",
    "            self.memory.append(experience)\n",
    "        else: #aggiungiamo la nuova esperienza al posto di quella più vecchia\n",
    "            self.memory[self.push_count % self.capacity] = experience\n",
    "        self.push_count += 1\n",
    "\n",
    "    #campiona un numero di batch_size esperienze dalla memoria in modo random\n",
    "    def sample(self, batch_size):\n",
    "        return random.sample(self.memory, batch_size)\n",
    "        \n",
    "    #controlla se è possibile campionare dalla memoria, ossia se ci sono abbastanza esperienze nella memoria rispetto alla batch size\n",
    "    def can_provide_sample(self, batch_size):\n",
    "        return len(self.memory) >= batch_size"
   ]
  },
  {
   "cell_type": "markdown",
   "id": "7c3ef52c-cc4e-43e2-8512-82ee5f43af99",
   "metadata": {},
   "source": [
    "# EPSILON GREEDY STRATEGY"
   ]
  },
  {
   "cell_type": "code",
   "execution_count": 18,
   "id": "e5533c11-5069-4771-8af6-6e9869970744",
   "metadata": {},
   "outputs": [],
   "source": [
    "class EpsilonGreedyStrategy():\n",
    "    def __init__(self, start, end, decay):\n",
    "        self.start = start\n",
    "        self.end = end\n",
    "        self.decay = decay\n",
    "\n",
    "    def get_exploration_rate(self, current_step):\n",
    "        return self.end + (self.start - self.end) * math.exp(-1. * current_step * self.decay)"
   ]
  },
  {
   "cell_type": "markdown",
   "id": "d4c91de8-09d6-4735-99cd-1746c15df476",
   "metadata": {},
   "source": [
    "# AGENT CLASS"
   ]
  },
  {
   "cell_type": "code",
   "execution_count": 19,
   "id": "cbe0814d-f120-4d36-9a1c-835f3abae2a5",
   "metadata": {},
   "outputs": [],
   "source": [
    "class Agent():\n",
    "    def __init__(self, strategy, num_actions):\n",
    "        self.current_step = 0\n",
    "        self.strategy = strategy\n",
    "        self.num_actions = num_actions\n",
    "\n",
    "    def select_action(self, state, policy_net):\n",
    "        rate = strategy.get_exploration_rate(self.current_step)\n",
    "        self.current_step += 1\n",
    "\n",
    "        if rate > random.random():\n",
    "            return random.randrange(self.num_actions) #explore\n",
    "        else: \n",
    "            action_probs = policy_net(state, training=False)\n",
    "            # Take best action\n",
    "            action = tf.argmax(action_probs[0]).numpy() #exploit\n",
    "            return action\n",
    "        "
   ]
  },
  {
   "cell_type": "markdown",
   "id": "a79fdfde-56d4-4cb2-a047-7e1ea47b7d5d",
   "metadata": {},
   "source": [
    "# TRAINING LOOP"
   ]
  },
  {
   "cell_type": "code",
   "execution_count": 20,
   "id": "c443e058-4369-4c92-9d75-0f6a339b3084",
   "metadata": {
    "scrolled": true
   },
   "outputs": [],
   "source": [
    "policy_net = create_qmodel(state_dim, n_actions)\n",
    "target_net = create_qmodel(state_dim, n_actions)\n",
    "#sess.run(tf.compat.v1.global_variables_initializer())\n",
    "strategy = EpsilonGreedyStrategy(start=1.0, end=0.01, decay=0.001)\n",
    "agent = Agent(strategy, n_actions)\n",
    "memory = ReplayMemory(100000)\n",
    "num_episodes = 1000\n",
    "max_steps_per_episode = 10000\n",
    "update_target_network = 10000\n",
    "optimizer = keras.optimizers.Adam(learning_rate=0.00025, clipnorm=1.0)\n",
    "gamma = 0.999\n",
    "#optimizer=tf.train.AdamOptimizer(1e-5)\n",
    "frame_count = 0\n",
    "episode_durations = []"
   ]
  },
  {
   "cell_type": "code",
   "execution_count": 21,
   "id": "32eba1a2-6943-4eee-ac01-e92c4b62ed61",
   "metadata": {},
   "outputs": [
    {
     "name": "stdout",
     "output_type": "stream",
     "text": [
      "Model: \"sequential\"\n",
      "_________________________________________________________________\n",
      " Layer (type)                Output Shape              Param #   \n",
      "=================================================================\n",
      " conv2d (Conv2D)             (None, 20, 20, 32)        8192      \n",
      "                                                                 \n",
      " conv2d_1 (Conv2D)           (None, 9, 9, 64)          32768     \n",
      "                                                                 \n",
      " conv2d_2 (Conv2D)           (None, 7, 7, 64)          36864     \n",
      "                                                                 \n",
      " conv2d_3 (Conv2D)           (None, 1, 1, 1024)        3211264   \n",
      "                                                                 \n",
      " flatten (Flatten)           (None, 1024)              0         \n",
      "                                                                 \n",
      " dense (Dense)               (None, 4)                 4100      \n",
      "                                                                 \n",
      "=================================================================\n",
      "Total params: 3,293,188\n",
      "Trainable params: 3,293,188\n",
      "Non-trainable params: 0\n",
      "_________________________________________________________________\n"
     ]
    }
   ],
   "source": [
    "policy_net.summary()"
   ]
  },
  {
   "cell_type": "code",
   "execution_count": 23,
   "id": "c4e91180-0377-49bf-8f6a-779d3b60fabd",
   "metadata": {},
   "outputs": [
    {
     "name": "stderr",
     "output_type": "stream",
     "text": [
      "  8%|██████▍                                                                       | 82/1000 [38:34<7:11:54, 28.23s/it]\n"
     ]
    },
    {
     "ename": "ValueError",
     "evalue": "Can't convert non-rectangular Python sequence to Tensor.",
     "output_type": "error",
     "traceback": [
      "\u001b[1;31m---------------------------------------------------------------------------\u001b[0m",
      "\u001b[1;31mValueError\u001b[0m                                Traceback (most recent call last)",
      "Cell \u001b[1;32mIn[23], line 19\u001b[0m\n\u001b[0;32m     17\u001b[0m \u001b[38;5;28;01mif\u001b[39;00m memory\u001b[38;5;241m.\u001b[39mcan_provide_sample(batch_size\u001b[38;5;241m=\u001b[39m\u001b[38;5;241m64\u001b[39m):\n\u001b[0;32m     18\u001b[0m     experiences \u001b[38;5;241m=\u001b[39m memory\u001b[38;5;241m.\u001b[39msample(batch_size\u001b[38;5;241m=\u001b[39m\u001b[38;5;241m64\u001b[39m)\n\u001b[1;32m---> 19\u001b[0m     state_sample, action_sample, rewards_sample, next_state_sample, done_sample \u001b[38;5;241m=\u001b[39m \u001b[43mextract_tensors\u001b[49m\u001b[43m(\u001b[49m\u001b[43mexperiences\u001b[49m\u001b[43m)\u001b[49m\n\u001b[0;32m     20\u001b[0m     \u001b[38;5;66;03m#is_not_done = 1 - done_sample\u001b[39;00m\n\u001b[0;32m     21\u001b[0m     \u001b[38;5;66;03m# compute q-values for NEXT states with target network\u001b[39;00m\n\u001b[0;32m     22\u001b[0m     next_qvalues \u001b[38;5;241m=\u001b[39m  target_net(next_state_sample, training\u001b[38;5;241m=\u001b[39m\u001b[38;5;28;01mFalse\u001b[39;00m)\n",
      "Cell \u001b[1;32mIn[16], line 7\u001b[0m, in \u001b[0;36mextract_tensors\u001b[1;34m(experiences)\u001b[0m\n\u001b[0;32m      5\u001b[0m actions_tensor \u001b[38;5;241m=\u001b[39m tf\u001b[38;5;241m.\u001b[39mconvert_to_tensor(batch\u001b[38;5;241m.\u001b[39maction, dtype\u001b[38;5;241m=\u001b[39mtf\u001b[38;5;241m.\u001b[39mfloat32)\n\u001b[0;32m      6\u001b[0m rewards_tensor \u001b[38;5;241m=\u001b[39m tf\u001b[38;5;241m.\u001b[39mconvert_to_tensor(batch\u001b[38;5;241m.\u001b[39mreward, dtype\u001b[38;5;241m=\u001b[39mtf\u001b[38;5;241m.\u001b[39mfloat32)\n\u001b[1;32m----> 7\u001b[0m next_states_tensor \u001b[38;5;241m=\u001b[39m \u001b[43mtf\u001b[49m\u001b[38;5;241;43m.\u001b[39;49m\u001b[43mconvert_to_tensor\u001b[49m\u001b[43m(\u001b[49m\u001b[43mbatch\u001b[49m\u001b[38;5;241;43m.\u001b[39;49m\u001b[43mnext_state\u001b[49m\u001b[43m,\u001b[49m\u001b[43m \u001b[49m\u001b[43mdtype\u001b[49m\u001b[38;5;241;43m=\u001b[39;49m\u001b[43mtf\u001b[49m\u001b[38;5;241;43m.\u001b[39;49m\u001b[43mfloat32\u001b[49m\u001b[43m)\u001b[49m\n\u001b[0;32m      8\u001b[0m done_tensor \u001b[38;5;241m=\u001b[39m tf\u001b[38;5;241m.\u001b[39mconvert_to_tensor(batch\u001b[38;5;241m.\u001b[39mdone, dtype\u001b[38;5;241m=\u001b[39mtf\u001b[38;5;241m.\u001b[39mfloat32)\n\u001b[0;32m     10\u001b[0m \u001b[38;5;28;01mreturn\u001b[39;00m (states_tensor, actions_tensor, rewards_tensor, next_states_tensor, done_tensor)\n",
      "File \u001b[1;32m~\\AppData\\Roaming\\Python\\Python310\\site-packages\\tensorflow\\python\\util\\traceback_utils.py:153\u001b[0m, in \u001b[0;36mfilter_traceback.<locals>.error_handler\u001b[1;34m(*args, **kwargs)\u001b[0m\n\u001b[0;32m    151\u001b[0m \u001b[38;5;28;01mexcept\u001b[39;00m \u001b[38;5;167;01mException\u001b[39;00m \u001b[38;5;28;01mas\u001b[39;00m e:\n\u001b[0;32m    152\u001b[0m   filtered_tb \u001b[38;5;241m=\u001b[39m _process_traceback_frames(e\u001b[38;5;241m.\u001b[39m__traceback__)\n\u001b[1;32m--> 153\u001b[0m   \u001b[38;5;28;01mraise\u001b[39;00m e\u001b[38;5;241m.\u001b[39mwith_traceback(filtered_tb) \u001b[38;5;28;01mfrom\u001b[39;00m \u001b[38;5;28;01mNone\u001b[39;00m\n\u001b[0;32m    154\u001b[0m \u001b[38;5;28;01mfinally\u001b[39;00m:\n\u001b[0;32m    155\u001b[0m   \u001b[38;5;28;01mdel\u001b[39;00m filtered_tb\n",
      "File \u001b[1;32m~\\AppData\\Roaming\\Python\\Python310\\site-packages\\tensorflow\\python\\framework\\constant_op.py:102\u001b[0m, in \u001b[0;36mconvert_to_eager_tensor\u001b[1;34m(value, ctx, dtype)\u001b[0m\n\u001b[0;32m    100\u001b[0m     dtype \u001b[38;5;241m=\u001b[39m dtypes\u001b[38;5;241m.\u001b[39mas_dtype(dtype)\u001b[38;5;241m.\u001b[39mas_datatype_enum\n\u001b[0;32m    101\u001b[0m ctx\u001b[38;5;241m.\u001b[39mensure_initialized()\n\u001b[1;32m--> 102\u001b[0m \u001b[38;5;28;01mreturn\u001b[39;00m \u001b[43mops\u001b[49m\u001b[38;5;241;43m.\u001b[39;49m\u001b[43mEagerTensor\u001b[49m\u001b[43m(\u001b[49m\u001b[43mvalue\u001b[49m\u001b[43m,\u001b[49m\u001b[43m \u001b[49m\u001b[43mctx\u001b[49m\u001b[38;5;241;43m.\u001b[39;49m\u001b[43mdevice_name\u001b[49m\u001b[43m,\u001b[49m\u001b[43m \u001b[49m\u001b[43mdtype\u001b[49m\u001b[43m)\u001b[49m\n",
      "\u001b[1;31mValueError\u001b[0m: Can't convert non-rectangular Python sequence to Tensor."
     ]
    }
   ],
   "source": [
    "from tqdm import trange\n",
    "\n",
    "for episode in trange(num_episodes):\n",
    "    state = np.array(env.reset())\n",
    "    for timestep in range(1, max_steps_per_episode):\n",
    "        #Adding this line would show the attempts\n",
    "        env.render();\n",
    "        \n",
    "        frame_count += 1\n",
    "        state_tensor = tf.convert_to_tensor(state)\n",
    "        state_tensor = tf.expand_dims(state_tensor, 0)\n",
    "        action = agent.select_action(state_tensor, policy_net)\n",
    "        next_state, reward, done, _ = env.step(action)\n",
    "        memory.push(Experience(state, action, next_state, reward, done))\n",
    "        state = np.array(next_state)\n",
    "\n",
    "        if memory.can_provide_sample(batch_size=64):\n",
    "            experiences = memory.sample(batch_size=64)\n",
    "            state_sample, action_sample, rewards_sample, next_state_sample, done_sample = extract_tensors(experiences)\n",
    "            #is_not_done = 1 - done_sample\n",
    "            # compute q-values for NEXT states with target network\n",
    "            next_qvalues =  target_net(next_state_sample, training=False)\n",
    "            max_next_qvalues = tf.reduce_max(next_qvalues, axis=-1)\n",
    "            #print(rewards_sample, max_next_qvalues)\n",
    "            target_qvalues = rewards_sample + gamma * max_next_qvalues\n",
    "            # If final frame set the last value to -1\n",
    "            target_qvalues = target_qvalues * (1 - done_sample) - done_sample\n",
    "            with tf.GradientTape() as tape:\n",
    "                current_qvalues = policy_net(state_sample)\n",
    "                current_action_qvalues = tf.reduce_sum(tf.one_hot(tf.cast(action_sample, dtype=tf.int32), n_actions) * current_qvalues, axis=1)\n",
    "                td_loss = tf.reduce_mean(tf.keras.losses.huber(target_qvalues, current_action_qvalues))\n",
    "\n",
    "             # Backpropagation\n",
    "            grads = tape.gradient(td_loss, policy_net.trainable_variables)\n",
    "            optimizer.apply_gradients(zip(grads, policy_net.trainable_variables))\n",
    "            \n",
    "            #optimizer.minimize(td_loss, var_list=policy_net.weights)\n",
    "\n",
    "        #target network update \n",
    "        if frame_count % update_target_network == 0:\n",
    "            target_net.set_weights(policy_net.get_weights())\n",
    "            # Log details\n",
    "            #template = \"running reward: {:.2f} at episode {}, frame count {}\"\n",
    "            #print(template.format(running_reward, episode, frame_count))\n",
    "            \n",
    "        if done:\n",
    "            episode_durations.append(timestep)\n",
    "            #plot\n",
    "            break"
   ]
  },
  {
   "cell_type": "code",
   "execution_count": null,
   "id": "28d2acb6-da58-4a85-8a43-a22b87f6830a",
   "metadata": {},
   "outputs": [],
   "source": []
  }
 ],
 "metadata": {
  "kernelspec": {
   "display_name": "Python 3 (ipykernel)",
   "language": "python",
   "name": "python3"
  },
  "language_info": {
   "codemirror_mode": {
    "name": "ipython",
    "version": 3
   },
   "file_extension": ".py",
   "mimetype": "text/x-python",
   "name": "python",
   "nbconvert_exporter": "python",
   "pygments_lexer": "ipython3",
   "version": "3.10.13"
  }
 },
 "nbformat": 4,
 "nbformat_minor": 5
}
