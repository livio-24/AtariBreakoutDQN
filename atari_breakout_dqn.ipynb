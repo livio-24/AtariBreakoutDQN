{
 "cells": [
  {
   "cell_type": "code",
   "execution_count": 1,
   "id": "d3121d7d-3095-4cd6-9efe-c1896376fc0d",
   "metadata": {},
   "outputs": [],
   "source": [
    "from baselines.common.atari_wrappers import make_atari, wrap_deepmind\n",
    "import gym\n",
    "import pandas as pd\n",
    "import numpy as np\n",
    "import cv2\n",
    "import matplotlib.pyplot as plt\n",
    "import tensorflow as tf"
   ]
  },
  {
   "cell_type": "code",
   "execution_count": 2,
   "id": "f352e185-05da-4c4e-9474-7f2ad814ec9e",
   "metadata": {},
   "outputs": [
    {
     "name": "stdout",
     "output_type": "stream",
     "text": [
      "0.15.7\n"
     ]
    }
   ],
   "source": [
    "print(gym.__version__)"
   ]
  },
  {
   "cell_type": "markdown",
   "id": "72683b60-ebb4-40d7-98d4-9992eac7a220",
   "metadata": {},
   "source": [
    "# CONCETTI PRINCIPALI DQN"
   ]
  },
  {
   "cell_type": "markdown",
   "id": "40c1241e-ba47-444d-9150-882afe007b37",
   "metadata": {},
   "source": [
    "![POLICY_NETWORK](images/policy_network.png)<br>\n",
    "Dopo aver memorizzato un'esperienza nella replay memory, si procede a campionare una batch casuale di esperienze dalla replay memory.\n",
    "A partire da un singolo campione (generalizzando a una batch) di esperienza dalla memoria, si procede a una preelaborazione dello stato (conversione in scala di grigi, ritaglio, scalatura, ecc.) e si passa lo stato preelaborato alla rete come input. L'obiettivo della rete è quello di approssimare la policy ottimale trovando la Q-function ottimale.\n",
    "\n",
    "I dati dello stato di input vengono propogati nella rete e vengono calcolati i Q-values per ciascuna azione in quello stato.\n",
    "\n",
    "Si calcola quindi la loss. Per farlo, si confronta il valore Q emesso dalla rete per l'azione nella tupla di esperienza che abbiamo campionato e il corrispondente valore Q ottimale, o valore Q target, per la stessa azione.\n",
    "\n",
    "Il valore Q target viene calcolato utilizzando l'espressione del lato destro dell'equazione di Bellman. Quindi la loss viene calcolata sottraendo il valore Q per una data coppia stato-azione dal valore Q ottimale per la stessa coppia stato-azione.\n",
    "\n",
    "![TARGET_NETWORK](images/target_network.png)<br>\n",
    "Per calcolare il target Q-value viene fatto un altro forward pass prendendo lo stato s' (next state) dalla tupla dell'esperienza campionata. Viene utilizzata una seconda rete (TARGET NETWORK), una copia della policy network (copia dei pesi dalla policy network periodicamente). Viene preso il Q-value massimo tra le possibili azioni.\n",
    "\n",
    "Questo secondo forward pass serve quindi per aiutarci a calcolare la loss.\n",
    "\n",
    "La discesa del gradiente viene quindi eseguita per aggiornare i pesi della rete nel tentativo di minimizzare la perdita. In questo caso, minimizzare la perdita significa puntare a far sì che la rete produca valori Q per ogni coppia stato-azione che si avvicinino ai valori Q target dati dall'equazione di Bellman.\n",
    "\n",
    "Fino a questo punto, tutto ciò che abbiamo esaminato riguardava un singolo passo temporale. Passiamo quindi alla fase temporale successiva dell'episodio e ripetiamo questo processo più volte, finché non raggiungiamo la fine dell'episodio. A quel punto, iniziamo un nuovo episodio e continuiamo a farlo finché non raggiungiamo il numero massimo di episodi stabilito. Continueremo a ripetere questo processo fino a quando non avremo minimizzato a sufficienza la perdita.\n",
    "\n",
    "RECAP\n",
    "\n",
    "![algorithm](images/algorithm.png)<br>"
   ]
  },
  {
   "cell_type": "code",
   "execution_count": 3,
   "id": "8ef1d827-5e12-4a09-bff3-ac3e3aa73a0f",
   "metadata": {},
   "outputs": [
    {
     "name": "stdout",
     "output_type": "stream",
     "text": [
      "[PhysicalDevice(name='/physical_device:GPU:0', device_type='GPU')]\n"
     ]
    }
   ],
   "source": [
    "print(tf.config.list_physical_devices('GPU'))"
   ]
  },
  {
   "cell_type": "code",
   "execution_count": 5,
   "id": "091b63e3-2900-4d8f-b0fe-cc80708950bd",
   "metadata": {},
   "outputs": [
    {
     "name": "stdout",
     "output_type": "stream",
     "text": [
      "1 Physical GPUs, 1 Logical GPUs\n"
     ]
    }
   ],
   "source": [
    "tf.debugging.set_log_device_placement(True)\n",
    "gpus = tf.config.list_physical_devices('GPU')\n",
    "if gpus:\n",
    "  try:\n",
    "    # Currently, memory growth needs to be the same across GPUs\n",
    "    for gpu in gpus:\n",
    "      tf.config.experimental.set_memory_growth(gpu, True)\n",
    "    logical_gpus = tf.config.list_logical_devices('GPU')\n",
    "    print(len(gpus), \"Physical GPUs,\", len(logical_gpus), \"Logical GPUs\")\n",
    "  except RuntimeError as e:\n",
    "    # Memory growth must be set before GPUs have been initialized\n",
    "    print(e)"
   ]
  },
  {
   "cell_type": "code",
   "execution_count": 20,
   "id": "b678b6e4-c334-45a0-8aad-45be84d4653c",
   "metadata": {},
   "outputs": [
    {
     "name": "stderr",
     "output_type": "stream",
     "text": [
      "C:\\Users\\Livio\\anaconda3\\envs\\dqn-breakout\\lib\\site-packages\\gym\\logger.py:30: UserWarning: \u001b[33mWARN: Box bound precision lowered by casting to float32\u001b[0m\n",
      "  warnings.warn(colorize('%s: %s'%('WARN', msg % args), 'yellow'))\n"
     ]
    },
    {
     "data": {
      "text/plain": [
       "<baselines.common.atari_wrappers.LazyFrames at 0x28fd932dd20>"
      ]
     },
     "execution_count": 20,
     "metadata": {},
     "output_type": "execute_result"
    }
   ],
   "source": [
    "# Use the Baseline Atari environment because of Deepmind helper functions\n",
    "env = make_atari(\"BreakoutNoFrameskip-v4\")\n",
    "# Warp the frames, grey scale, stake four frame and scale to smaller ratio\n",
    "env = wrap_deepmind(env, frame_stack=True, scale=True)\n",
    "env.reset()"
   ]
  },
  {
   "cell_type": "code",
   "execution_count": 34,
   "id": "5d57312c-b4a1-4def-ab3c-7440e7216cda",
   "metadata": {},
   "outputs": [
    {
     "data": {
      "text/plain": [
       "(84, 84, 4)"
      ]
     },
     "execution_count": 34,
     "metadata": {},
     "output_type": "execute_result"
    }
   ],
   "source": [
    "state_dim = env.observation_space.shape\n",
    "state_dim"
   ]
  },
  {
   "cell_type": "code",
   "execution_count": 33,
   "id": "018add44-e4a4-442b-aaa4-3d6e8c10d949",
   "metadata": {},
   "outputs": [
    {
     "data": {
      "text/plain": [
       "4"
      ]
     },
     "execution_count": 33,
     "metadata": {},
     "output_type": "execute_result"
    }
   ],
   "source": [
    "n_actions = env.action_space.n\n",
    "n_actions"
   ]
  },
  {
   "cell_type": "code",
   "execution_count": 41,
   "id": "250a614c-922c-496d-8ecc-261747ddb26c",
   "metadata": {},
   "outputs": [
    {
     "data": {
      "image/png": "[encoded data removed]",
      "text/plain": [
       "<Figure size 640x480 with 1 Axes>"
      ]
     },
     "metadata": {},
     "output_type": "display_data"
    },
    {
     "data": {
      "image/png": "[encoded data removed]",
      "text/plain": [
       "<Figure size 640x480 with 1 Axes>"
      ]
     },
     "metadata": {},
     "output_type": "display_data"
    }
   ],
   "source": [
    "# review Atari image, and actual observation of the Agent after processing\n",
    "for _ in range(50):\n",
    "    obs, _, _, _ = env.step(env.action_space.sample())\n",
    "    \n",
    "obs = np.array(obs)\n",
    "plt.title(\"Game image\")\n",
    "plt.imshow(env.render(\"rgb_array\"))\n",
    "plt.show()\n",
    "plt.title(\"Agent observation (4 frames left to right)\")\n",
    "plt.imshow(obs.transpose([0,2,1]).reshape([state_dim[0],-1]));"
   ]
  },
  {
   "cell_type": "markdown",
   "id": "6809a130-6b76-4941-99d4-7d63167d2194",
   "metadata": {},
   "source": [
    "# HYPER-PARAMETERS"
   ]
  },
  {
   "cell_type": "code",
   "execution_count": null,
   "id": "9282b9e3-41ce-43ad-8dfa-dc75196987b1",
   "metadata": {},
   "outputs": [],
   "source": [
    "batch_size = 256\n",
    "gamma = 0.999 #fattore di sconto bellman equation\n",
    "eps_start = 1 #valore iniziale epsilon\n",
    "eps_end = 0.01 #valore finale epsilon\n",
    "eps_decay = 0.001 #decay epsilon\n",
    "target_update = 10 #frequenza (in episodi) con cui vengono aggiornati i pesi della target network\n",
    "memory_size = 100000 #dimensione replay memory\n",
    "lr = 0.001 #learning rate\n",
    "num_episodes = 1000"
   ]
  }
 ],
 "metadata": {
  "kernelspec": {
   "display_name": "Python 3 (ipykernel)",
   "language": "python",
   "name": "python3"
  },
  "language_info": {
   "codemirror_mode": {
    "name": "ipython",
    "version": 3
   },
   "file_extension": ".py",
   "mimetype": "text/x-python",
   "name": "python",
   "nbconvert_exporter": "python",
   "pygments_lexer": "ipython3",
   "version": "3.10.13"
  }
 },
 "nbformat": 4,
 "nbformat_minor": 5
}
