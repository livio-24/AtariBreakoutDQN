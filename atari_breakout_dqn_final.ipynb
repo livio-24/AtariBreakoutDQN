{
 "cells": [
  {
   "cell_type": "code",
   "execution_count": 1,
   "id": "K1tO1co8QqoG",
   "metadata": {
    "colab": {
     "base_uri": "https://localhost:8080/",
     "height": 36
    },
    "id": "K1tO1co8QqoG",
    "outputId": "44c5d9d1-811c-437e-c777-6bdb65af4717"
   },
   "outputs": [
    {
     "data": {
      "text/plain": [
       "\"\\nimport os\\nif(os.getcwd() != '/content'):\\n  os.chdir('/content')\\n\\nos.getcwd()\\n\""
      ]
     },
     "execution_count": 1,
     "metadata": {},
     "output_type": "execute_result"
    }
   ],
   "source": [
    "'''\n",
    "import os\n",
    "if(os.getcwd() != '/content'):\n",
    "  os.chdir('/content')\n",
    "\n",
    "os.getcwd()\n",
    "'''"
   ]
  },
  {
   "cell_type": "code",
   "execution_count": 2,
   "id": "gWc-3SWGG3Rk",
   "metadata": {
    "colab": {
     "base_uri": "https://localhost:8080/"
    },
    "id": "gWc-3SWGG3Rk",
    "outputId": "5a01687d-2a8e-43a6-9cf2-70cebca57721"
   },
   "outputs": [
    {
     "data": {
      "text/plain": [
       "'\\nfrom google.colab import drive\\ndrive.mount(\"/content/drive\")\\n'"
      ]
     },
     "execution_count": 2,
     "metadata": {},
     "output_type": "execute_result"
    }
   ],
   "source": [
    "'''\n",
    "from google.colab import drive\n",
    "drive.mount(\"/content/drive\")\n",
    "'''"
   ]
  },
  {
   "cell_type": "code",
   "execution_count": 3,
   "id": "Xn6epHwKAXNd",
   "metadata": {
    "colab": {
     "base_uri": "https://localhost:8080/"
    },
    "id": "Xn6epHwKAXNd",
    "outputId": "91c7e21f-75f8-4df8-9e97-ef5aca06f496"
   },
   "outputs": [],
   "source": [
    "#!git clone https://github.com/openai/baselines.git"
   ]
  },
  {
   "cell_type": "code",
   "execution_count": 4,
   "id": "KDwlDLAEDIXR",
   "metadata": {
    "colab": {
     "base_uri": "https://localhost:8080/"
    },
    "id": "KDwlDLAEDIXR",
    "outputId": "c4abda1c-6fb6-40e5-f633-d1c97d3fe245"
   },
   "outputs": [],
   "source": [
    "#!pip install gym[atari]"
   ]
  },
  {
   "cell_type": "code",
   "execution_count": 5,
   "id": "aZYHW7PmHvqg",
   "metadata": {
    "colab": {
     "base_uri": "https://localhost:8080/"
    },
    "id": "aZYHW7PmHvqg",
    "outputId": "ea9fa117-4334-486a-d782-515c6fc1a259"
   },
   "outputs": [
    {
     "data": {
      "text/plain": [
       "'\\n!pip install atari-py\\n!apt-get install -y wget\\n\\n# Download the Atari ROMs\\n!wget -P /content/ http://www.atarimania.com/roms/Atari-2600-VCS-ROM-Collection.zip\\n# Unzip the ROMs\\n!unzip -o Atari-2600-VCS-ROM-Collection.zip\\n\\n# Remove the downloaded zip file\\n!rm /content/Atari-2600-VCS-ROM-Collection.zip\\n'"
      ]
     },
     "execution_count": 5,
     "metadata": {},
     "output_type": "execute_result"
    }
   ],
   "source": [
    "'''\n",
    "!pip install atari-py\n",
    "!apt-get install -y wget\n",
    "\n",
    "# Download the Atari ROMs\n",
    "!wget -P /content/ http://www.atarimania.com/roms/Atari-2600-VCS-ROM-Collection.zip\n",
    "# Unzip the ROMs\n",
    "!unzip -o Atari-2600-VCS-ROM-Collection.zip\n",
    "\n",
    "# Remove the downloaded zip file\n",
    "!rm /content/Atari-2600-VCS-ROM-Collection.zip\n",
    "'''"
   ]
  },
  {
   "cell_type": "code",
   "execution_count": 6,
   "id": "8FZzD9vzAoZN",
   "metadata": {
    "colab": {
     "base_uri": "https://localhost:8080/"
    },
    "id": "8FZzD9vzAoZN",
    "outputId": "31812ec0-0a03-4b99-a1da-3727fac3b187"
   },
   "outputs": [
    {
     "data": {
      "text/plain": [
       "\"\\nimport os\\n\\n# Change to the baselines directory\\nos.chdir('baselines')\\n\\n# Install the baselines package\\n!pip install -e .\\nos.chdir('..')\\n\""
      ]
     },
     "execution_count": 6,
     "metadata": {},
     "output_type": "execute_result"
    }
   ],
   "source": [
    "'''\n",
    "import os\n",
    "\n",
    "# Change to the baselines directory\n",
    "os.chdir('baselines')\n",
    "\n",
    "# Install the baselines package\n",
    "!pip install -e .\n",
    "os.chdir('..')\n",
    "'''"
   ]
  },
  {
   "cell_type": "code",
   "execution_count": 7,
   "id": "gmJDsjdLKZYE",
   "metadata": {
    "colab": {
     "base_uri": "https://localhost:8080/"
    },
    "id": "gmJDsjdLKZYE",
    "outputId": "17ca2df1-a7af-475d-8cba-0bace8fe71ed"
   },
   "outputs": [],
   "source": [
    "#!python -m atari_py.import_roms \"/content/ROMS\""
   ]
  },
  {
   "cell_type": "code",
   "execution_count": 8,
   "id": "q_tZetqqUTKb",
   "metadata": {
    "colab": {
     "base_uri": "https://localhost:8080/"
    },
    "id": "q_tZetqqUTKb",
    "outputId": "886196bc-37ae-41bc-f9fd-6fb2f9d48c3d"
   },
   "outputs": [
    {
     "data": {
      "text/plain": [
       "'\\nif type(os.environ.get(\"DISPLAY\")) is not str or len(os.environ.get(\"DISPLAY\"))==0:\\n    !bash ../xvfb start\\n    %env DISPLAY=:1\\n    '"
      ]
     },
     "execution_count": 8,
     "metadata": {},
     "output_type": "execute_result"
    }
   ],
   "source": [
    "'''\n",
    "if type(os.environ.get(\"DISPLAY\")) is not str or len(os.environ.get(\"DISPLAY\"))==0:\n",
    "    !bash ../xvfb start\n",
    "    %env DISPLAY=:1\n",
    "    '''"
   ]
  },
  {
   "cell_type": "code",
   "execution_count": 9,
   "id": "flHyZfr-HkLF",
   "metadata": {
    "colab": {
     "base_uri": "https://localhost:8080/",
     "height": 36
    },
    "id": "flHyZfr-HkLF",
    "outputId": "59d71955-a868-485f-ba96-b55c95d19f26"
   },
   "outputs": [
    {
     "data": {
      "text/plain": [
       "\"\\nimport os\\nif not os.path.exists('drive/MyDrive/dqn_breakout/v2'):\\n    os.makedirs('drive/MyDrive/dqn_breakout/v2')\\n\\nos.chdir('drive/MyDrive/dqn_breakout')\\nos.getcwd()\\n\""
      ]
     },
     "execution_count": 9,
     "metadata": {},
     "output_type": "execute_result"
    }
   ],
   "source": [
    "'''\n",
    "import os\n",
    "if not os.path.exists('drive/MyDrive/dqn_breakout/v2'):\n",
    "    os.makedirs('drive/MyDrive/dqn_breakout/v2')\n",
    "\n",
    "os.chdir('drive/MyDrive/dqn_breakout')\n",
    "os.getcwd()\n",
    "'''"
   ]
  },
  {
   "cell_type": "code",
   "execution_count": 10,
   "id": "d3121d7d-3095-4cd6-9efe-c1896376fc0d",
   "metadata": {
    "id": "d3121d7d-3095-4cd6-9efe-c1896376fc0d"
   },
   "outputs": [],
   "source": [
    "from baselines.common.atari_wrappers import make_atari, wrap_deepmind\n",
    "import gym\n",
    "import pandas as pd\n",
    "import numpy as np\n",
    "import cv2\n",
    "import matplotlib.pyplot as plt\n",
    "import tensorflow as tf\n",
    "import keras\n",
    "import math\n",
    "import random\n",
    "import os\n",
    "import pickle\n",
    "import copy\n",
    "import gc"
   ]
  },
  {
   "cell_type": "code",
   "execution_count": 11,
   "id": "f10f6163-17eb-4957-9a7d-0a98bc4ea455",
   "metadata": {
    "colab": {
     "base_uri": "https://localhost:8080/"
    },
    "id": "f10f6163-17eb-4957-9a7d-0a98bc4ea455",
    "outputId": "e98f4e8f-20e8-448f-cc5a-1c45267480c7"
   },
   "outputs": [
    {
     "name": "stdout",
     "output_type": "stream",
     "text": [
      "2.10.1\n"
     ]
    }
   ],
   "source": [
    "print(tf.__version__)"
   ]
  },
  {
   "cell_type": "code",
   "execution_count": 12,
   "id": "f352e185-05da-4c4e-9474-7f2ad814ec9e",
   "metadata": {
    "colab": {
     "base_uri": "https://localhost:8080/"
    },
    "id": "f352e185-05da-4c4e-9474-7f2ad814ec9e",
    "outputId": "081eaed0-127b-45d2-b760-8db9e41f3683"
   },
   "outputs": [
    {
     "name": "stdout",
     "output_type": "stream",
     "text": [
      "0.15.7\n"
     ]
    }
   ],
   "source": [
    "print(gym.__version__)"
   ]
  },
  {
   "cell_type": "markdown",
   "id": "72683b60-ebb4-40d7-98d4-9992eac7a220",
   "metadata": {
    "id": "72683b60-ebb4-40d7-98d4-9992eac7a220"
   },
   "source": [
    "# CONCETTI PRINCIPALI DQN"
   ]
  },
  {
   "cell_type": "markdown",
   "id": "40c1241e-ba47-444d-9150-882afe007b37",
   "metadata": {
    "id": "40c1241e-ba47-444d-9150-882afe007b37"
   },
   "source": [
    "![POLICY_NETWORK](images/policy_network.png)<br>\n",
    "Dopo aver memorizzato un'esperienza nella replay memory, si procede a campionare una batch casuale di esperienze dalla replay memory.\n",
    "A partire da un singolo campione (generalizzando a una batch) di esperienza dalla memoria, si procede a una preelaborazione dello stato (conversione in scala di grigi, ritaglio, scalatura, ecc.) e si passa lo stato preelaborato alla rete come input. L'obiettivo della rete è quello di approssimare la policy ottimale trovando la Q-function ottimale.\n",
    "\n",
    "I dati dello stato di input vengono propogati nella rete e vengono calcolati i Q-values per ciascuna azione in quello stato.\n",
    "\n",
    "Si calcola quindi la loss. Per farlo, si confronta il valore Q emesso dalla rete per l'azione nella tupla di esperienza che abbiamo campionato e il corrispondente valore Q ottimale, o valore Q target, per la stessa azione.\n",
    "\n",
    "Il valore Q target viene calcolato utilizzando l'espressione del lato destro dell'equazione di Bellman. Quindi la loss viene calcolata sottraendo il valore Q per una data coppia stato-azione dal valore Q ottimale per la stessa coppia stato-azione.\n",
    "\n",
    "![TARGET_NETWORK](images/target_network.png)<br>\n",
    "Per calcolare il target Q-value viene fatto un altro forward pass prendendo lo stato s' (next state) dalla tupla dell'esperienza campionata. Viene utilizzata una seconda rete (TARGET NETWORK), una copia della policy network (copia dei pesi dalla policy network periodicamente). Viene preso il Q-value massimo tra le possibili azioni.\n",
    "\n",
    "Questo secondo forward pass serve quindi per aiutarci a calcolare la loss.\n",
    "\n",
    "La discesa del gradiente viene quindi eseguita per aggiornare i pesi della rete nel tentativo di minimizzare la perdita. In questo caso, minimizzare la perdita significa puntare a far sì che la rete produca valori Q per ogni coppia stato-azione che si avvicinino ai valori Q target dati dall'equazione di Bellman.\n",
    "\n",
    "Fino a questo punto, tutto ciò che abbiamo esaminato riguardava un singolo passo temporale. Passiamo quindi alla fase temporale successiva dell'episodio e ripetiamo questo processo più volte, finché non raggiungiamo la fine dell'episodio. A quel punto, iniziamo un nuovo episodio e continuiamo a farlo finché non raggiungiamo il numero massimo di episodi stabilito. Continueremo a ripetere questo processo fino a quando non avremo minimizzato a sufficienza la perdita.\n",
    "\n",
    "RECAP\n",
    "\n",
    "![algorithm](images/algorithm.png)<br>"
   ]
  },
  {
   "cell_type": "code",
   "execution_count": 13,
   "id": "8ef1d827-5e12-4a09-bff3-ac3e3aa73a0f",
   "metadata": {
    "colab": {
     "base_uri": "https://localhost:8080/"
    },
    "id": "8ef1d827-5e12-4a09-bff3-ac3e3aa73a0f",
    "outputId": "4c4ac05a-dd70-45da-c971-5a56cb547c8f",
    "scrolled": true
   },
   "outputs": [
    {
     "name": "stdout",
     "output_type": "stream",
     "text": [
      "[PhysicalDevice(name='/physical_device:GPU:0', device_type='GPU')]\n"
     ]
    }
   ],
   "source": [
    "print(tf.config.list_physical_devices('GPU'))"
   ]
  },
  {
   "cell_type": "code",
   "execution_count": 14,
   "id": "091b63e3-2900-4d8f-b0fe-cc80708950bd",
   "metadata": {
    "colab": {
     "base_uri": "https://localhost:8080/"
    },
    "id": "091b63e3-2900-4d8f-b0fe-cc80708950bd",
    "outputId": "dcd1f52a-f64f-4225-eef2-1d064619ff3a"
   },
   "outputs": [
    {
     "name": "stdout",
     "output_type": "stream",
     "text": [
      "1 Physical GPUs, 1 Logical GPUs\n"
     ]
    }
   ],
   "source": [
    "#tf.debugging.set_log_device_placement(True)\n",
    "\n",
    "gpus = tf.config.list_physical_devices('GPU')\n",
    "if gpus:\n",
    "  try:\n",
    "    # Currently, memory growth needs to be the same across GPUs\n",
    "    for gpu in gpus:\n",
    "      tf.config.experimental.set_memory_growth(gpu, True)\n",
    "    logical_gpus = tf.config.list_logical_devices('GPU')\n",
    "    print(len(gpus), \"Physical GPUs,\", len(logical_gpus), \"Logical GPUs\")\n",
    "  except RuntimeError as e:\n",
    "    # Memory growth must be set before GPUs have been initialized\n",
    "    print(e)\n"
   ]
  },
  {
   "cell_type": "code",
   "execution_count": 15,
   "id": "b678b6e4-c334-45a0-8aad-45be84d4653c",
   "metadata": {
    "colab": {
     "base_uri": "https://localhost:8080/"
    },
    "id": "b678b6e4-c334-45a0-8aad-45be84d4653c",
    "outputId": "05dff110-4269-47ad-876e-082a9661a71f"
   },
   "outputs": [
    {
     "name": "stderr",
     "output_type": "stream",
     "text": [
      "C:\\Users\\Livio\\anaconda3\\envs\\dqn-breakout\\lib\\site-packages\\gym\\logger.py:30: UserWarning: \u001b[33mWARN: Box bound precision lowered by casting to float32\u001b[0m\n",
      "  warnings.warn(colorize('%s: %s'%('WARN', msg % args), 'yellow'))\n"
     ]
    },
    {
     "data": {
      "text/plain": [
       "<baselines.common.atari_wrappers.LazyFrames at 0x23aa6ad5f00>"
      ]
     },
     "execution_count": 15,
     "metadata": {},
     "output_type": "execute_result"
    }
   ],
   "source": [
    "seed = 42\n",
    "# Use the Baseline Atari environment because of Deepmind helper functions\n",
    "env = make_atari(\"BreakoutNoFrameskip-v4\")\n",
    "# Warp the frames, grey scale, stake four frame and scale to smaller ratio\n",
    "env = wrap_deepmind(env, frame_stack=True, scale=True)\n",
    "env.seed(seed)\n",
    "env.reset()"
   ]
  },
  {
   "cell_type": "code",
   "execution_count": 16,
   "id": "5d57312c-b4a1-4def-ab3c-7440e7216cda",
   "metadata": {
    "colab": {
     "base_uri": "https://localhost:8080/"
    },
    "id": "5d57312c-b4a1-4def-ab3c-7440e7216cda",
    "outputId": "93a8b1c4-9668-4a15-ee55-1d1c873b8658"
   },
   "outputs": [
    {
     "data": {
      "text/plain": [
       "(84, 84, 4)"
      ]
     },
     "execution_count": 16,
     "metadata": {},
     "output_type": "execute_result"
    }
   ],
   "source": [
    "state_dim = env.observation_space.shape\n",
    "state_dim"
   ]
  },
  {
   "cell_type": "code",
   "execution_count": 17,
   "id": "018add44-e4a4-442b-aaa4-3d6e8c10d949",
   "metadata": {
    "colab": {
     "base_uri": "https://localhost:8080/"
    },
    "id": "018add44-e4a4-442b-aaa4-3d6e8c10d949",
    "outputId": "4aa01491-ffee-4b06-8735-dab19b506695"
   },
   "outputs": [
    {
     "data": {
      "text/plain": [
       "4"
      ]
     },
     "execution_count": 17,
     "metadata": {},
     "output_type": "execute_result"
    }
   ],
   "source": [
    "n_actions = env.action_space.n\n",
    "n_actions"
   ]
  },
  {
   "cell_type": "code",
   "execution_count": 18,
   "id": "250a614c-922c-496d-8ecc-261747ddb26c",
   "metadata": {
    "colab": {
     "base_uri": "https://localhost:8080/",
     "height": 642
    },
    "id": "250a614c-922c-496d-8ecc-261747ddb26c",
    "outputId": "de65609f-1381-493d-d73b-461e572e9b17"
   },
   "outputs": [
    {
     "data": {
      "image/png": "[encoded data removed]",
      "text/plain": [
       "<Figure size 640x480 with 1 Axes>"
      ]
     },
     "metadata": {},
     "output_type": "display_data"
    },
    {
     "data": {
      "image/png": "[encoded data removed]",
      "text/plain": [
       "<Figure size 640x480 with 1 Axes>"
      ]
     },
     "metadata": {},
     "output_type": "display_data"
    }
   ],
   "source": [
    "# review Atari image, and actual observation of the Agent after processing\n",
    "for _ in range(50):\n",
    "    obs, _, _, _ = env.step(env.action_space.sample())\n",
    "\n",
    "obs = np.array(obs)\n",
    "plt.title(\"Game image\")\n",
    "plt.imshow(env.render(\"rgb_array\"))\n",
    "plt.show()\n",
    "plt.title(\"Agent observation (4 frames left to right)\")\n",
    "plt.imshow(obs.transpose([0,2,1]).reshape([state_dim[0],-1]), cmap='Greys_r');"
   ]
  },
  {
   "cell_type": "markdown",
   "id": "3c83a7ff-bbac-4401-9d66-c5f54547bb62",
   "metadata": {
    "id": "3c83a7ff-bbac-4401-9d66-c5f54547bb62"
   },
   "source": [
    "# DEEP Q-NETWORK"
   ]
  },
  {
   "cell_type": "code",
   "execution_count": 19,
   "id": "e60998c2-37f8-4be6-b531-0d454f381b31",
   "metadata": {
    "id": "e60998c2-37f8-4be6-b531-0d454f381b31"
   },
   "outputs": [
    {
     "data": {
      "text/plain": [
       "\"\\nfrom keras.layers import Conv2D, Dense, Flatten\\n\\ndef create_qmodel(state_shape, n_actions):\\n    network = keras.models.Sequential()\\n\\n    # Keras ignores the first dimension in the input_shape, which is the batch size.\\n    # So just use state_shape for the input shape\\n    network.add(Conv2D(32, (8, 8), strides=4, activation='relu', input_shape=state_shape))\\n    network.add(Conv2D(64, (4, 4), strides=2, activation='relu'))\\n    network.add(Conv2D(64, (3, 3), strides=1, activation='relu'))\\n    network.add(Flatten())\\n    network.add(Dense(512, activation='relu'))\\n    network.add(Dense(n_actions, activation='linear'))\\n\\n    return network\\n\""
      ]
     },
     "execution_count": 19,
     "metadata": {},
     "output_type": "execute_result"
    }
   ],
   "source": [
    "#V1\n",
    "'''\n",
    "from keras.layers import Conv2D, Dense, Flatten\n",
    "\n",
    "def create_qmodel(state_shape, n_actions):\n",
    "    network = keras.models.Sequential()\n",
    "\n",
    "    # Keras ignores the first dimension in the input_shape, which is the batch size.\n",
    "    # So just use state_shape for the input shape\n",
    "    network.add(Conv2D(32, (8, 8), strides=4, activation='relu', input_shape=state_shape))\n",
    "    network.add(Conv2D(64, (4, 4), strides=2, activation='relu'))\n",
    "    network.add(Conv2D(64, (3, 3), strides=1, activation='relu'))\n",
    "    network.add(Flatten())\n",
    "    network.add(Dense(512, activation='relu'))\n",
    "    network.add(Dense(n_actions, activation='linear'))\n",
    "\n",
    "    return network\n",
    "'''"
   ]
  },
  {
   "cell_type": "code",
   "execution_count": 20,
   "id": "fd2960e2-7999-4c84-9b73-e31fd5b6f609",
   "metadata": {
    "id": "fd2960e2-7999-4c84-9b73-e31fd5b6f609"
   },
   "outputs": [],
   "source": [
    "#V2\n",
    "from keras.layers import Conv2D, Dense, Flatten\n",
    "\n",
    "def create_qmodel(state_shape, n_actions):\n",
    "    network = keras.models.Sequential()\n",
    "    # Keras ignores the first dimension in the input_shape, which is the batch size.\n",
    "    # So just use state_shape for the input shape\n",
    "    network.add(Conv2D(32, (8, 8), strides=4, activation='relu',use_bias=False, input_shape=state_shape,kernel_initializer=tf.compat.v1.variance_scaling_initializer(scale=2)))\n",
    "    network.add(Conv2D(64, (4, 4), strides=2, activation='relu',use_bias=False,kernel_initializer=tf.compat.v1.variance_scaling_initializer(scale=2)))\n",
    "    network.add(Conv2D(64, (3, 3), strides=1, activation='relu',use_bias=False,kernel_initializer=tf.compat.v1.variance_scaling_initializer(scale=2)))\n",
    "    network.add(Conv2D(1024, (7, 7), strides=1, activation='relu',use_bias=False,kernel_initializer=tf.compat.v1.variance_scaling_initializer(scale=2)))\n",
    "    network.add(Flatten())\n",
    "    network.add(Dense(n_actions, activation='linear',kernel_initializer=tf.compat.v1.variance_scaling_initializer(scale=2)))\n",
    "\n",
    "    return network"
   ]
  },
  {
   "cell_type": "markdown",
   "id": "e5613ae5-ce29-42e5-8fc4-72bb2a2a82c8",
   "metadata": {
    "id": "e5613ae5-ce29-42e5-8fc4-72bb2a2a82c8"
   },
   "source": [
    "# REPLAY MEMORY"
   ]
  },
  {
   "cell_type": "code",
   "execution_count": 21,
   "id": "3d8ed90c-396e-4fdf-905d-6462eadd2e8d",
   "metadata": {
    "id": "3d8ed90c-396e-4fdf-905d-6462eadd2e8d"
   },
   "outputs": [],
   "source": [
    "# This code is shamelessly stolen from https://github.com/openai/baselines/blob/master/baselines/deepq/replay_buffer.py\n",
    "import random\n",
    "\n",
    "class ReplayBuffer(object):\n",
    "    def __init__(self, size):\n",
    "        \"\"\"Create Replay buffer.\n",
    "        Parameters\n",
    "        ----------\n",
    "        size: int\n",
    "            Max number of transitions to store in the buffer. When the buffer\n",
    "            overflows the old memories are dropped.\n",
    "        \"\"\"\n",
    "        self._storage = []\n",
    "        self._maxsize = size\n",
    "        self._next_idx = 0\n",
    "\n",
    "    def __len__(self):\n",
    "        return len(self._storage)\n",
    "\n",
    "    def add(self, obs_t, action, reward, obs_tp1, done):\n",
    "        data = (obs_t, action, reward, obs_tp1, done)\n",
    "\n",
    "        if self._next_idx >= len(self._storage):\n",
    "            self._storage.append(data)\n",
    "        else:\n",
    "            self._storage[self._next_idx] = data\n",
    "        self._next_idx = (self._next_idx + 1) % self._maxsize\n",
    "\n",
    "    def _encode_sample(self, idxes):\n",
    "        obses_t, actions, rewards, obses_tp1, dones = [], [], [], [], []\n",
    "        for i in idxes:\n",
    "            data = self._storage[i]\n",
    "            obs_t, action, reward, obs_tp1, done = data\n",
    "            obses_t.append(np.array(obs_t, copy=False))\n",
    "            actions.append(np.array(action, copy=False))\n",
    "            rewards.append(reward)\n",
    "            obses_tp1.append(np.array(obs_tp1, copy=False))\n",
    "            dones.append(done)\n",
    "        return np.array(obses_t), np.array(actions), np.array(rewards), np.array(obses_tp1), np.array(dones)\n",
    "\n",
    "    def sample(self, batch_size):\n",
    "        \"\"\"Sample a batch of experiences.\n",
    "        Parameters\n",
    "        ----------\n",
    "        batch_size: int\n",
    "            How many transitions to sample.\n",
    "        Returns\n",
    "        -------\n",
    "        obs_batch: np.array\n",
    "            batch of observations\n",
    "        act_batch: np.array\n",
    "            batch of actions executed given obs_batch\n",
    "        rew_batch: np.array\n",
    "            rewards received as results of executing act_batch\n",
    "        next_obs_batch: np.array\n",
    "            next set of observations seen after executing act_batch\n",
    "        done_mask: np.array\n",
    "            done_mask[i] = 1 if executing act_batch[i] resulted in\n",
    "            the end of an episode and 0 otherwise.\n",
    "        \"\"\"\n",
    "        idxes = [random.randint(0, len(self._storage) - 1) for _ in range(batch_size)]\n",
    "        return self._encode_sample(idxes)"
   ]
  },
  {
   "cell_type": "markdown",
   "id": "7c3ef52c-cc4e-43e2-8512-82ee5f43af99",
   "metadata": {
    "id": "7c3ef52c-cc4e-43e2-8512-82ee5f43af99"
   },
   "source": [
    "# EPSILON GREEDY STRATEGY"
   ]
  },
  {
   "cell_type": "code",
   "execution_count": 22,
   "id": "e5533c11-5069-4771-8af6-6e9869970744",
   "metadata": {
    "id": "e5533c11-5069-4771-8af6-6e9869970744"
   },
   "outputs": [],
   "source": [
    "class EpsilonGreedyStrategy():\n",
    "    def __init__(self, current, max, min, epsilon_random_frames, epsilon_greedy_frames):\n",
    "        self.current = current\n",
    "        self.max = max\n",
    "        self.min = min\n",
    "        self.epsilon_random_frames = epsilon_random_frames\n",
    "        self.epsilon_greedy_frames = epsilon_greedy_frames\n",
    "\n",
    "    def decay_epsilon(self):\n",
    "        # Decay probability of taking random action\n",
    "        self.current -= (self.max - self.min)/self.epsilon_greedy_frames\n",
    "        return self.current"
   ]
  },
  {
   "cell_type": "markdown",
   "id": "d4c91de8-09d6-4735-99cd-1746c15df476",
   "metadata": {
    "id": "d4c91de8-09d6-4735-99cd-1746c15df476"
   },
   "source": [
    "# AGENT CLASS"
   ]
  },
  {
   "cell_type": "code",
   "execution_count": 23,
   "id": "cbe0814d-f120-4d36-9a1c-835f3abae2a5",
   "metadata": {
    "id": "cbe0814d-f120-4d36-9a1c-835f3abae2a5"
   },
   "outputs": [],
   "source": [
    "class Agent():\n",
    "    def __init__(self, strategy, num_actions):\n",
    "        self.current_step = 0\n",
    "        self.strategy = strategy\n",
    "        self.num_actions = num_actions\n",
    "\n",
    "    def select_action(self, state, policy_net):\n",
    "        action = 0\n",
    "        epsilon = self.strategy.current\n",
    "\n",
    "        if epsilon > random.random() or self.current_step < self.strategy.epsilon_random_frames:\n",
    "            action = random.randrange(self.num_actions) #explore\n",
    "        else:\n",
    "            action_probs = policy_net(state, training=False)\n",
    "            # Take best action\n",
    "            act = tf.argmax(action_probs[0]).numpy() #exploit\n",
    "            #print(action)\n",
    "            action = act\n",
    "\n",
    "        epsilon = self.strategy.decay_epsilon()\n",
    "        self.strategy.current = max(epsilon, self.strategy.min)\n",
    "        self.current_step += 1\n",
    "\n",
    "        return action        "
   ]
  },
  {
   "cell_type": "code",
   "execution_count": 24,
   "id": "769f353c-b25e-4ba0-b60a-66c90371519c",
   "metadata": {
    "id": "769f353c-b25e-4ba0-b60a-66c90371519c",
    "scrolled": true
   },
   "outputs": [],
   "source": [
    "def save_agent(agent, save_path, save_name):\n",
    "    # Create folder if it does not exists\n",
    "    if not os.path.exists(save_path):\n",
    "        os.makedirs(save_path)\n",
    "\n",
    "    # Save the entire object to a file using pickle\n",
    "    with open(os.path.join(save_path, save_name) + '.pkl', 'wb') as file:\n",
    "        pickler = pickle.Pickler(file)\n",
    "        pickler.dump(agent)\n",
    "\n",
    "def load_agent(load_path, load_name):\n",
    "    # Load the entire object from the file using pickle\n",
    "    with open(os.path.join(load_path, load_name) + '.pkl', 'rb') as file:\n",
    "        loaded_agent = pickle.load(file)\n",
    "\n",
    "    return loaded_agent"
   ]
  },
  {
   "cell_type": "markdown",
   "id": "6b10ebab-6bea-41b3-95a1-d7a9a7d2fc5a",
   "metadata": {
    "id": "6b10ebab-6bea-41b3-95a1-d7a9a7d2fc5a"
   },
   "source": [
    "# HYPER-PARAMETERS"
   ]
  },
  {
   "cell_type": "code",
   "execution_count": 25,
   "id": "c443e058-4369-4c92-9d75-0f6a339b3084",
   "metadata": {
    "id": "c443e058-4369-4c92-9d75-0f6a339b3084",
    "scrolled": true
   },
   "outputs": [],
   "source": [
    "epsilon = 1.0  # Epsilon greedy parameter\n",
    "epsilon_min = 0.1  # Minimum epsilon greedy parameter\n",
    "epsilon_max = 1.0  # Maximum epsilon greedy parameter\n",
    "# Number of frames to take random action and observe output\n",
    "epsilon_random_frames = 50000\n",
    "# Number of frames for exploration\n",
    "epsilon_greedy_frames = 1000000.0\n",
    "update_after_actions = 4\n",
    "#num_episodes = 1000\n",
    "max_steps_per_episode = 10000\n",
    "update_target_network = 10000\n",
    "batch_size = 64\n",
    "gamma = 0.99\n",
    "max_memory_length = 100000"
   ]
  },
  {
   "cell_type": "code",
   "execution_count": 26,
   "id": "2328a906-4e4e-457b-814b-cb2db2f5889a",
   "metadata": {
    "id": "2328a906-4e4e-457b-814b-cb2db2f5889a"
   },
   "outputs": [],
   "source": [
    "policy_net = create_qmodel(state_dim, n_actions)\n",
    "target_net = create_qmodel(state_dim, n_actions)\n",
    "optimizer = keras.optimizers.Adam(learning_rate=0.00025, clipnorm=1.0)\n",
    "loss_function = keras.losses.Huber()\n",
    "strategy = EpsilonGreedyStrategy(current = epsilon,\n",
    "                                     max = epsilon_max,\n",
    "                                     min = epsilon_min,\n",
    "                                     epsilon_random_frames = epsilon_random_frames,\n",
    "                                     epsilon_greedy_frames = epsilon_greedy_frames)\n",
    "\n",
    "agent = Agent(strategy, n_actions)\n",
    "#ho commentato altrimenti ho problemi di RAM sul mio pc, non su colab \n",
    "#memory = ReplayBuffer(max_memory_length)"
   ]
  },
  {
   "cell_type": "code",
   "execution_count": 27,
   "id": "803684eb-96aa-40d9-b095-5f39fdba8c48",
   "metadata": {
    "id": "803684eb-96aa-40d9-b095-5f39fdba8c48"
   },
   "outputs": [],
   "source": [
    "#checkpoints modello e optimizer, per eseguire run successive\n",
    "ckpt = tf.train.Checkpoint(model=policy_net, optimizer=optimizer)\n",
    "manager = tf.train.CheckpointManager(ckpt, './v2/tf_ckpts', max_to_keep=3)\n",
    "\n",
    "agent_dir = './v2/agent'"
   ]
  },
  {
   "cell_type": "code",
   "execution_count": 28,
   "id": "9eac70a0-fbfe-4fc3-b765-5d84fd5f25ca",
   "metadata": {
    "id": "9eac70a0-fbfe-4fc3-b765-5d84fd5f25ca"
   },
   "outputs": [],
   "source": [
    "from tqdm import trange\n",
    "\n",
    "def play_and_record(agent, policy_net, env, n_steps=1):\n",
    "    \"\"\"\n",
    "    Play the game for exactly n steps, record every (s,a,r,s', done) to replay buffer.\n",
    "    Whenever game ends, add record with done=True and reset the game.\n",
    "    \"\"\"\n",
    "    # State at the beginning of rollout\n",
    "    s = np.array(env.reset())\n",
    "\n",
    "    # Play the game for n_steps as per instructions above\n",
    "    for t in trange(n_steps):\n",
    "        # get agent to pick action given state s\n",
    "        state_tensor = tf.convert_to_tensor(s)\n",
    "        state_tensor = tf.expand_dims(state_tensor, 0)\n",
    "        #seleziona azione tramite strategia epsilon-greedy\n",
    "        action = agent.select_action(state_tensor, policy_net)\n",
    "        #print(action)\n",
    "        next_state, reward, done, _ = env.step(action)\n",
    "        next_state = np.array(next_state)\n",
    "\n",
    "        # add to replay buffer\n",
    "        memory.add(s, action, reward, next_state, done)\n",
    "        if done:\n",
    "            s = np.array(env.reset())\n",
    "        else:\n",
    "            s = next_state"
   ]
  },
  {
   "cell_type": "code",
   "execution_count": 29,
   "id": "eb931888-dd43-4c4a-b927-2dbd89ea8f0e",
   "metadata": {
    "colab": {
     "base_uri": "https://localhost:8080/"
    },
    "id": "eb931888-dd43-4c4a-b927-2dbd89ea8f0e",
    "outputId": "156cf3ea-dd3d-4ebd-811c-e9434fb557a0"
   },
   "outputs": [
    {
     "name": "stdout",
     "output_type": "stream",
     "text": [
      "Filling replay memory...\n"
     ]
    }
   ],
   "source": [
    "print('Filling replay memory...')\n",
    "#uncomment to fill replay memory\n",
    "#play_and_record(agent, policy_net, env, n_steps=20000)\n",
    "#len(memory)"
   ]
  },
  {
   "cell_type": "code",
   "execution_count": 30,
   "id": "4dc4e1ca-184b-429e-b4ff-6c775b96c801",
   "metadata": {
    "id": "4dc4e1ca-184b-429e-b4ff-6c775b96c801"
   },
   "outputs": [
    {
     "data": {
      "text/plain": [
       "'\\nfrom datetime import datetime\\n\\ncurrent_time = datetime.now().strftime(\"%Y%m%d-%H%M%S\")\\nlog_dir = f\\'./v2/logs/{current_time}\\'\\n# Callback per TensorBoard\\ntensorboard_callback = tf.keras.callbacks.TensorBoard(log_dir=log_dir, histogram_freq=1, write_graph=True, write_images=True)\\n\\n%load_ext tensorboard\\n%tensorboard --logdir ./v2/logs\\n'"
      ]
     },
     "execution_count": 30,
     "metadata": {},
     "output_type": "execute_result"
    }
   ],
   "source": [
    "'''\n",
    "from datetime import datetime\n",
    "\n",
    "current_time = datetime.now().strftime(\"%Y%m%d-%H%M%S\")\n",
    "log_dir = f'./v2/logs/{current_time}'\n",
    "# Callback per TensorBoard\n",
    "tensorboard_callback = tf.keras.callbacks.TensorBoard(log_dir=log_dir, histogram_freq=1, write_graph=True, write_images=True)\n",
    "\n",
    "%load_ext tensorboard\n",
    "%tensorboard --logdir ./v2/logs\n",
    "'''"
   ]
  },
  {
   "cell_type": "markdown",
   "id": "a79fdfde-56d4-4cb2-a047-7e1ea47b7d5d",
   "metadata": {
    "id": "a79fdfde-56d4-4cb2-a047-7e1ea47b7d5d"
   },
   "source": [
    "# TRAINING LOOP"
   ]
  },
  {
   "cell_type": "code",
   "execution_count": 31,
   "id": "23057f9e-4d0c-4f6e-8f68-f15790cbb2f8",
   "metadata": {
    "id": "23057f9e-4d0c-4f6e-8f68-f15790cbb2f8"
   },
   "outputs": [],
   "source": [
    "from tqdm import trange\n",
    "from IPython.display import clear_output\n",
    "from pandas import DataFrame\n",
    "moving_average = lambda x, span, **kw: DataFrame({'x':np.asarray(x)}).x.ewm(span=span, **kw).mean().values\n",
    "%matplotlib inline\n",
    "\n",
    "def train(env, agent, policy_net, target_net, memory, loss_function, optimizer, log_dir, agent_dir, ckpt, manager, resume = False):\n",
    "    running_reward = 0\n",
    "    frame_count = 0\n",
    "    episode_count = 0\n",
    "    episode_rw_history = []\n",
    "    td_loss_history = []\n",
    "    epsilon_history = []\n",
    "\n",
    "    if(resume):\n",
    "        ckpt.restore(manager.latest_checkpoint)\n",
    "        if manager.latest_checkpoint:\n",
    "            print(\"Restored from {}\".format(manager.latest_checkpoint))\n",
    "            agent = load_agent(agent_dir, 'agent')\n",
    "        else:\n",
    "            print(\"Initializing from scratch.\")\n",
    "\n",
    "\n",
    "    while True:\n",
    "        state = np.array(env.reset())\n",
    "        episode_rw = 0\n",
    "        for timestep in range(1, max_steps_per_episode):\n",
    "            #Adding this line would show the attempts\n",
    "            #env.render();\n",
    "            # Print the result\n",
    "            frame_count += 1\n",
    "            state_tensor = tf.convert_to_tensor(state)\n",
    "            state_tensor = tf.expand_dims(state_tensor, 0)\n",
    "\n",
    "            #seleziona azione tramite strategia epsilon-greedy\n",
    "            action = agent.select_action(state_tensor, policy_net)\n",
    "            next_state, reward, done, _ = env.step(action)\n",
    "            next_state = np.array(next_state)\n",
    "            episode_rw += reward\n",
    "             # Save actions and states in replay buffer\n",
    "            memory.add(state, action, reward, next_state, done)\n",
    "            state = next_state\n",
    "\n",
    "            if frame_count % update_after_actions == 0 and len(memory) > batch_size:\n",
    "                # Get samples from replay buffer\n",
    "                state_sample, action_sample, rewards_sample, next_state_sample, done_sample = memory.sample(batch_size)\n",
    "\n",
    "                next_qvalues =  target_net.predict(next_state_sample, verbose=0)\n",
    "                max_next_qvalues = tf.reduce_max(next_qvalues, axis=1)\n",
    "\n",
    "                #lato destro equazione bellman ford\n",
    "                target_qvalues = rewards_sample + gamma * max_next_qvalues\n",
    "                # If final frame set the last value to -1\n",
    "                target_qvalues = target_qvalues * (1 - done_sample) - done_sample\n",
    "\n",
    "                with tf.GradientTape() as tape:\n",
    "                    current_qvalues = policy_net(state_sample)\n",
    "                    #q-values relativi alle azioni nelle esperienze campionate\n",
    "                    current_action_qvalues = tf.reduce_sum(tf.one_hot(tf.cast(action_sample, dtype=tf.int32), n_actions) * current_qvalues, axis=1)\n",
    "                    td_loss = loss_function(target_qvalues, current_action_qvalues)\n",
    "                 # Backpropagation\n",
    "                grads = tape.gradient(td_loss, policy_net.trainable_variables)\n",
    "                optimizer.apply_gradients(zip(grads, policy_net.trainable_variables))\n",
    "                td_loss_history.append(td_loss)\n",
    "            #target network update\n",
    "            if frame_count % update_target_network == 0:\n",
    "                target_net.set_weights(policy_net.get_weights())\n",
    "                # Log details\n",
    "                template = \"running reward: {:.2f} at episode {}, frame count {}, epsilon {:.5f}\"\n",
    "                print(template.format(running_reward, episode_count, frame_count, agent.strategy.current))\n",
    "\n",
    "                with tf.summary.create_file_writer(log_dir).as_default():\n",
    "                  tf.summary.scalar('running Reward', running_reward, step = agent.current_step)\n",
    "                  tf.summary.scalar('Td loss', np.mean(td_loss_history), step = agent.current_step)\n",
    "                  tf.summary.scalar('Epsilon',agent.strategy.current , step = agent.current_step)\n",
    "\n",
    "\n",
    "            if frame_count % 100000 == 0:\n",
    "                save_path = manager.save()\n",
    "                print(\"Saved checkpoint for step {}: {}\".format(frame_count, save_path))\n",
    "                save_agent(agent, agent_dir, 'agent')\n",
    "\n",
    "            if done:\n",
    "                break\n",
    "\n",
    "\n",
    "        episode_rw_history.append(episode_rw)\n",
    "        # Update running reward to check condition for solving\n",
    "        if len(episode_rw_history) > 100:\n",
    "            del episode_rw_history[:1]\n",
    "        running_reward = np.mean(episode_rw_history)\n",
    "\n",
    "        episode_count += 1\n",
    "\n",
    "        if running_reward > 40:  # Condition to consider the task solved\n",
    "            print(\"Solved at episode {}!\".format(episode_count))\n",
    "            break\n"
   ]
  },
  {
   "cell_type": "code",
   "execution_count": 32,
   "id": "vk_QBK4WzTYp",
   "metadata": {
    "colab": {
     "base_uri": "https://localhost:8080/",
     "height": 354
    },
    "id": "vk_QBK4WzTYp",
    "outputId": "1b57dd1f-9d72-42e9-a58a-b62190935f63"
   },
   "outputs": [],
   "source": [
    "#train(env,agent, policy_net, target_net, memory, loss_function, optimizer, log_dir, agent_dir, ckpt, manager, resume = False)"
   ]
  },
  {
   "cell_type": "markdown",
   "id": "d8a75ad1-18ce-452a-930b-11ea28e21ebe",
   "metadata": {},
   "source": [
    "Sull'asse X il numero di step e sull'asse Y la running reward (media delle reward cumulate degli ultimi 100 episodi)"
   ]
  },
  {
   "cell_type": "markdown",
   "id": "1ef56559-ca64-466e-9db1-ed43558bcfc8",
   "metadata": {},
   "source": [
    "### Running Reward training"
   ]
  },
  {
   "cell_type": "markdown",
   "id": "9624f6d5-9376-4ba5-bece-ee57eda53b0e",
   "metadata": {
    "id": "d856afae-e1ed-4691-80da-170b8f47edb8"
   },
   "source": [
    "![POLICY_NETWORK](images/runningRewardV2.svg)"
   ]
  },
  {
   "cell_type": "markdown",
   "id": "f44dbe70-b985-4e22-ae28-8274fbe47412",
   "metadata": {},
   "source": [
    "In fase di valutazione il modello è stato valutato con epsilon pari a 0 (ossia scegliendo sempre l'azione con q-value maggiore), il miglior punteggio ottenuto è 358"
   ]
  },
  {
   "cell_type": "code",
   "execution_count": 33,
   "id": "d23b91f5-ec3c-41dc-9077-d7eb14cd0af9",
   "metadata": {
    "id": "d23b91f5-ec3c-41dc-9077-d7eb14cd0af9"
   },
   "outputs": [],
   "source": [
    "import time\n",
    "from tqdm import trange\n",
    "\n",
    "#Evaluate agents performance, in a number of games\n",
    "def evaluate(env, policy_net, n_games=1,t_max=1000):\n",
    "    \"\"\" Plays n_games. Returns mean reward. \"\"\"\n",
    "    rewards = []\n",
    "    #state = np.array(env.reset())\n",
    "    for _ in trange(n_games):\n",
    "        r = 0\n",
    "        state = env.reset()\n",
    "        for _ in range(t_max):\n",
    "            env.render()\n",
    "            time.sleep(.1)\n",
    "            state_tensor = tf.convert_to_tensor(state)\n",
    "            state_tensor = tf.expand_dims(state_tensor, 0)\n",
    "            action_q = policy_net(state_tensor, training=False)\n",
    "            # Take best action\n",
    "            action = tf.argmax(action_q[0]).numpy() #exploit\n",
    "            next_state, reward, done, _ = env.step(action)\n",
    "            next_state = np.array(next_state)\n",
    "            r += reward\n",
    "\n",
    "            if done:\n",
    "              #state = env.reset()\n",
    "              break\n",
    "\n",
    "            else:\n",
    "                state = next_state\n",
    "\n",
    "        rewards.append(r)\n",
    "\n",
    "    env.close()\n",
    "    return np.mean(rewards)"
   ]
  },
  {
   "cell_type": "code",
   "execution_count": 34,
   "id": "2c96e73e-a6b2-42ae-afc4-371cfcc7421e",
   "metadata": {
    "id": "2c96e73e-a6b2-42ae-afc4-371cfcc7421e"
   },
   "outputs": [],
   "source": [
    "#agent = load_agent(agent_dir, 'agent')\n",
    "policy_net.load_weights('./trained_model.h5')\n",
    "#ckpt.restore('./v2/tf_ckpts/ckpt-46')\n",
    "#policy_net.save_weights('./weights/v2_best_trained_model.h5', overwrite=True)"
   ]
  },
  {
   "cell_type": "code",
   "execution_count": null,
   "id": "81f0cd53-5113-4621-9b47-bd8b37e534f0",
   "metadata": {
    "id": "81f0cd53-5113-4621-9b47-bd8b37e534f0"
   },
   "outputs": [
    {
     "name": "stderr",
     "output_type": "stream",
     "text": [
      "  0%|                                                                                           | 0/20 [00:00<?, ?it/s]"
     ]
    }
   ],
   "source": [
    "results = evaluate(env, policy_net, n_games = 20)"
   ]
  },
  {
   "cell_type": "code",
   "execution_count": null,
   "id": "975137fa-7468-4650-9e94-85cc69822123",
   "metadata": {
    "id": "975137fa-7468-4650-9e94-85cc69822123"
   },
   "outputs": [],
   "source": [
    "results"
   ]
  },
  {
   "cell_type": "code",
   "execution_count": null,
   "id": "e28b0028-7ea6-44ce-995b-674232fcab06",
   "metadata": {},
   "outputs": [],
   "source": []
  }
 ],
 "metadata": {
  "accelerator": "GPU",
  "colab": {
   "gpuType": "T4",
   "machine_shape": "hm",
   "provenance": []
  },
  "kernelspec": {
   "display_name": "Python 3 (ipykernel)",
   "language": "python",
   "name": "python3"
  },
  "language_info": {
   "codemirror_mode": {
    "name": "ipython",
    "version": 3
   },
   "file_extension": ".py",
   "mimetype": "text/x-python",
   "name": "python",
   "nbconvert_exporter": "python",
   "pygments_lexer": "ipython3",
   "version": "3.10.13"
  }
 },
 "nbformat": 4,
 "nbformat_minor": 5
}
